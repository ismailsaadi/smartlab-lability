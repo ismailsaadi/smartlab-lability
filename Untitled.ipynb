{
 "cells": [
  {
   "cell_type": "code",
   "execution_count": 1,
   "id": "bb271bf8",
   "metadata": {},
   "outputs": [
    {
     "name": "stderr",
     "output_type": "stream",
     "text": [
      "Matplotlib created a temporary config/cache directory at /tmp/matplotlib-nvqvsg22 because the default path (/home/user/.cache/matplotlib) is not a writable directory; it is highly recommended to set the MPLCONFIGDIR environment variable to a writable directory, in particular to speed up the import of Matplotlib and to better support multiprocessing.\n"
     ]
    }
   ],
   "source": [
    "from graph_tool.all import *\n",
    "from numba import jit\n",
    "from numba.types import int64\n",
    "from numba import njit, prange\n",
    "from numba import jit, njit\n",
    "from numba.types import float64, int64\n",
    "from numba import njit, prange\n",
    "from tqdm import tqdm\n",
    "\n",
    "import matplotlib as mpl\n",
    "import matplotlib.pyplot as plt\n",
    "import pandas as pd\n",
    "import numpy as np\n",
    "import time"
   ]
  },
  {
   "cell_type": "code",
   "execution_count": 3,
   "id": "2c56e234",
   "metadata": {},
   "outputs": [],
   "source": [
    "## DATA PRE-PROCESSING\n",
    "\n",
    "df_persons=pd.read_csv('data/all/persons.csv',';')\n",
    "df_persons['person_id_gt']=df_persons.index\n",
    "        \n",
    "df_activities=pd.read_csv('data/all/full_activities_with_ids.csv').drop(['Unnamed: 0'], axis=1).rename(columns={'uid':'location_id'})\n",
    "df_activities=df_activities[df_activities['purpose']!='home']\n",
    "df_activities=df_activities[(~df_activities.start_time.isnull())&(~df_activities.end_time.isnull())]\n",
    "\n",
    "#df_activities['purpose']=df_activities['purpose'].astype('category').cat.reorder_categories(['work', 'education', 'leisure', 'shop', 'other']).cat.codes\n",
    "df_activities=df_activities.merge(df_persons, on='person_id')"
   ]
  },
  {
   "cell_type": "code",
   "execution_count": 12,
   "id": "9d9fe402",
   "metadata": {},
   "outputs": [
    {
     "data": {
      "text/plain": [
       "education    527582\n",
       "leisure      283571\n",
       "other        145226\n",
       "shop         109220\n",
       "Name: purpose, dtype: int64"
      ]
     },
     "execution_count": 12,
     "metadata": {},
     "output_type": "execute_result"
    }
   ],
   "source": [
    "df_activities[df_activities['age']<5].purpose.value_counts()"
   ]
  },
  {
   "cell_type": "code",
   "execution_count": 6,
   "id": "f2651c48",
   "metadata": {},
   "outputs": [],
   "source": [
    "df_activities=df_activities.merge(df_persons, on='person_id') "
   ]
  },
  {
   "cell_type": "code",
   "execution_count": 14,
   "id": "f66b81ef",
   "metadata": {},
   "outputs": [
    {
     "data": {
      "text/plain": [
       "594114"
      ]
     },
     "execution_count": 14,
     "metadata": {},
     "output_type": "execute_result"
    }
   ],
   "source": [
    "len(df_activities[df_activities['age']<5]['person_id'].unique())"
   ]
  },
  {
   "cell_type": "code",
   "execution_count": 17,
   "id": "50933d32",
   "metadata": {},
   "outputs": [
    {
     "data": {
      "text/plain": [
       "0.9192655951179962"
      ]
     },
     "execution_count": 17,
     "metadata": {},
     "output_type": "execute_result"
    }
   ],
   "source": [
    "len(df_activities[df_activities['age']<5]['person_id'].unique())/df_persons[df_persons['age']<5].shape[0]"
   ]
  },
  {
   "cell_type": "code",
   "execution_count": null,
   "id": "627385bf",
   "metadata": {},
   "outputs": [],
   "source": []
  }
 ],
 "metadata": {
  "kernelspec": {
   "display_name": "Python 3",
   "language": "python",
   "name": "python3"
  },
  "language_info": {
   "codemirror_mode": {
    "name": "ipython",
    "version": 3
   },
   "file_extension": ".py",
   "mimetype": "text/x-python",
   "name": "python",
   "nbconvert_exporter": "python",
   "pygments_lexer": "ipython3",
   "version": "3.9.5"
  }
 },
 "nbformat": 4,
 "nbformat_minor": 5
}
