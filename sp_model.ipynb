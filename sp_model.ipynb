{
 "cells": [
  {
   "cell_type": "code",
   "execution_count": 1,
   "id": "7e684c34",
   "metadata": {},
   "outputs": [
    {
     "name": "stderr",
     "output_type": "stream",
     "text": [
      "Matplotlib created a temporary config/cache directory at /tmp/matplotlib-6nf_nn38 because the default path (/home/user/.cache/matplotlib) is not a writable directory; it is highly recommended to set the MPLCONFIGDIR environment variable to a writable directory, in particular to speed up the import of Matplotlib and to better support multiprocessing.\n"
     ]
    }
   ],
   "source": [
    "from graph_tool.all import *\n",
    "from tqdm import tqdm\n",
    "\n",
    "import matplotlib as mpl\n",
    "import matplotlib.pyplot as plt\n",
    "\n",
    "# import geopandas as gpd\n",
    "import pandas as pd\n",
    "import numpy as np"
   ]
  },
  {
   "cell_type": "code",
   "execution_count": 2,
   "id": "113ef99a",
   "metadata": {},
   "outputs": [],
   "source": [
    "# graph_household=load_graph('files/graph_weekday_household_all.xml.gz')"
   ]
  },
  {
   "cell_type": "code",
   "execution_count": 3,
   "id": "edbf6008",
   "metadata": {},
   "outputs": [],
   "source": [
    "# Juste besoin du graph_overall_dflt2 à ce niveau puisqu'on laisse tomber la variabilité temporelle \n",
    "# graph_overall_dflt=load_graph('files/graphs/contact_network1.xml.gz')"
   ]
  },
  {
   "cell_type": "code",
   "execution_count": 4,
   "id": "f8e2798b",
   "metadata": {},
   "outputs": [],
   "source": [
    "graph_overall_dflt2=load_graph('files/graphs/contact_network_22_8_2022.xml.gz')"
   ]
  },
  {
   "cell_type": "code",
   "execution_count": 5,
   "id": "ba4a45c1",
   "metadata": {},
   "outputs": [
    {
     "name": "stdout",
     "output_type": "stream",
     "text": [
      "Average number of contacts is 9.999\n"
     ]
    }
   ],
   "source": [
    "print('Average number of contacts is {}'.format(np.round(graph_overall_dflt2.num_edges()*2/graph_overall_dflt2.num_vertices(), 3)))"
   ]
  },
  {
   "cell_type": "code",
   "execution_count": 6,
   "id": "2117a664",
   "metadata": {},
   "outputs": [],
   "source": [
    "# trick for multiple-source BFS sampling\n",
    "\n",
    "# ref of the origin vertex\n",
    "#source=graph_overall_dflt2.get_vertices()[-1]+1\n",
    "\n",
    "# random sampling of vertices (n=1000)\n",
    "# I create the 1000-related virtual edges\n",
    "\n",
    "#msn=500\n",
    "#graph_overall_dflt2.add_edge_list([(source, k) for k in np.random.randint(0, graph_overall_dflt2.num_vertices(), msn)])\n",
    "#graph_overall_dflt2.remove_vertex(11755775)"
   ]
  },
  {
   "cell_type": "code",
   "execution_count": 9,
   "id": "80ada316",
   "metadata": {},
   "outputs": [
    {
     "data": {
      "text/plain": [
       "{'age': <VertexPropertyMap object with value type 'int32_t', for Graph 0x7fa3103be070, at 0x7fa3103c6ca0>, 'insee': <VertexPropertyMap object with value type 'int32_t', for Graph 0x7fa3103be070, at 0x7fa3103c6e50>, 'all_neighbours': <VertexPropertyMap object with value type 'bool', for Graph 0x7fa3103be070, at 0x7fa2dcc90be0>, 'keep': <VertexPropertyMap object with value type 'bool', for Graph 0x7fa3103be070, at 0x7fa3103b9f10>}"
      ]
     },
     "execution_count": 9,
     "metadata": {},
     "output_type": "execute_result"
    }
   ],
   "source": [
    "graph_overall_dflt2.vp"
   ]
  },
  {
   "cell_type": "code",
   "execution_count": 8,
   "id": "f39ecc63",
   "metadata": {},
   "outputs": [],
   "source": [
    "#graph_household.vp['keep'] = graph_household.new_vp('bool', vals=None, val=False)\n",
    "graph_overall_dflt2.vp['keep'] = graph_overall_dflt2.new_vp('bool', vals=None, val=False)"
   ]
  },
  {
   "cell_type": "code",
   "execution_count": 10,
   "id": "fbd5c8e2",
   "metadata": {},
   "outputs": [],
   "source": [
    "graph_overall_dflt2.vp['id'] = graph_overall_dflt2.new_vp('int', vals=graph_overall_dflt2.get_vertices())"
   ]
  },
  {
   "cell_type": "code",
   "execution_count": 8,
   "id": "d98850db",
   "metadata": {},
   "outputs": [],
   "source": [
    "#u=GraphView(graph_overall, vfilt= (graph_overall.get_total_degrees(graph_overall.get_vertices())>0))\n",
    "#graph_overall_without_group0 = Graph(u, prune=True)"
   ]
  },
  {
   "cell_type": "code",
   "execution_count": 9,
   "id": "05b4719f",
   "metadata": {},
   "outputs": [
    {
     "data": {
      "text/plain": [
       "11755776"
      ]
     },
     "execution_count": 9,
     "metadata": {},
     "output_type": "execute_result"
    }
   ],
   "source": [
    "len(graph_overall_dflt2.vp['keep'].a)"
   ]
  },
  {
   "cell_type": "code",
   "execution_count": 5,
   "id": "a19d2e1a",
   "metadata": {},
   "outputs": [],
   "source": [
    "#del graph_overall.ep[\"keep\"] "
   ]
  },
  {
   "cell_type": "code",
   "execution_count": 7,
   "id": "a20c93c5",
   "metadata": {},
   "outputs": [],
   "source": [
    "sampling_rate=30/100\n",
    "sampling_rate_SP=1/1000000\n",
    "sampling_rate/sampling_rate_SP-1\n",
    "\n",
    "\n",
    "def sample_NEW(graph_overall):\n",
    "\n",
    "    # BFS sampling\n",
    "    for k in graph_overall.get_vertices():\n",
    "        graph_overall.vp.keep[k] = False\n",
    "        \n",
    "    print(\"ok\")\n",
    "\n",
    "    # bfs sampling\n",
    "    list_of_nmasked_vertices=[]\n",
    "\n",
    "    cpt=0\n",
    "    n=1000000\n",
    "\n",
    "    # start with the most connected individual\n",
    "    #random_node=np.argmax(graph_overall.get_total_degrees(graph_overall.get_vertices())) # workers are over-represented\n",
    "    #random_node=np.random.randint(0,graph_overall.num_vertices(),1)[0]\n",
    "    # random_node=10\n",
    "    \n",
    "    \n",
    "    sampling_rate=30/100\n",
    "    sampling_rate_SP=1/1000000\n",
    "    number_of_nodes=np.int64(graph_overall.num_vertices()*sampling_rate_SP)\n",
    "    iterator_sp=np.random.randint(0,graph_overall.num_vertices(), number_of_nodes)\n",
    "\n",
    "    with tqdm(total=len(iterator_sp), position=0, leave=True) as pbar:\n",
    "        for sp in iterator_sp:\n",
    "            list_of_nmasked_vertices.append(graph_overall.vertex(sp))\n",
    "            for e in bfs_iterator(graph_overall, graph_overall.vertex(sp), array=False):\n",
    "                #print('bfs iteration {}'.format(cpt))\n",
    "                if e.target() not in list_of_nmasked_vertices: \n",
    "                    list_of_nmasked_vertices.append(e.target())\n",
    "                    cpt+=1\n",
    "                    if cpt>(sampling_rate/sampling_rate_SP-1):\n",
    "                        break\n",
    "            cpt=0\n",
    "            pbar.update(1)\n",
    "\n",
    "    #for k in list_of_nmasked_vertices:\n",
    "    #    graph_overall.vp.keep[k] = True\n",
    "    \n",
    "    return list_of_nmasked_vertices\n"
   ]
  },
  {
   "cell_type": "code",
   "execution_count": 11,
   "id": "0367c5f8",
   "metadata": {},
   "outputs": [
    {
     "name": "stderr",
     "output_type": "stream",
     "text": [
      "235170it [00:01, 204699.00it/s]                            \n"
     ]
    },
    {
     "data": {
      "text/plain": [
       "16.17665144061841"
      ]
     },
     "execution_count": 11,
     "metadata": {},
     "output_type": "execute_result"
    }
   ],
   "source": [
    "def sample(graph_overall, random_node):\n",
    "    graph_overall.vp['keep'].a=False\n",
    "    graph_overall.vp['all_neighbours'].a=False\n",
    "\n",
    "    # BFS sampling\n",
    "    #for k in graph_overall.get_vertices():\n",
    "    #    graph_overall.vp.keep[k] = False\n",
    "        \n",
    "    # print('ok')\n",
    "\n",
    "    # bfs sampling\n",
    "    list_of_nmasked_vertices=[]\n",
    "    list_of_nmasked_vertices_neighbours=[]\n",
    "\n",
    "    cpt=0\n",
    "    n=50\n",
    "\n",
    "    # start with the most connected individual\n",
    "    #random_node=np.argmax(graph_overall.get_total_degrees(graph_overall.get_vertices())) # workers are over-represented\n",
    "    \n",
    "    #random_node=np.random.randint(0,graph_overall.num_vertices(),1)[0]\n",
    "    # random_node=10\n",
    "    \n",
    "    ref=source\n",
    "    with tqdm(total=int(graph_overall.num_vertices()/n), position=0, leave=True) as pbar: \n",
    "        list_of_nmasked_vertices.append(graph_overall.vertex(random_node))\n",
    "        for e in bfs_iterator(graph_overall, graph_overall.vertex(random_node), array=False):\n",
    "#             if e.target()!=random_node:\n",
    "#                 list_of_nmasked_vertices.append(e.target())\n",
    "            list_of_nmasked_vertices.append(e.target())\n",
    "    \n",
    "            if e.source()!=ref: # once all person's neighbors are visited, I store the person as we have all his contacts\n",
    "                list_of_nmasked_vertices_neighbours.append(ref)\n",
    "                ref=e.source()\n",
    "            \n",
    "            if cpt>int(graph_overall.num_vertices()/n):\n",
    "                break\n",
    "                \n",
    "            \n",
    "            cpt+=1\n",
    "            pbar.update(1)\n",
    "            \n",
    "\n",
    "\n",
    "    #len(list_of_nmasked_vertices)\n",
    "\n",
    "    for k in list_of_nmasked_vertices:\n",
    "        graph_overall.vp.keep[k] = True\n",
    "        \n",
    "    for k in list_of_nmasked_vertices_neighbours:\n",
    "        graph_overall.vp['all_neighbours'][k] = True\n",
    "    \n",
    "    return graph_overall\n",
    "\n",
    "\n",
    "source=np.random.randint(0,graph_overall_dflt2.num_vertices(),1)[0]\n",
    "graph_overall_dflt2.vp['all_neighbours'] = graph_overall_dflt2.new_vp('bool', vals=None, val=False)\n",
    "\n",
    "\n",
    "graph_overall1=sample(graph_overall_dflt2, source)\n",
    "ug = GraphView(graph_overall1, vfilt= (graph_overall1.vp['keep'].a==True))\n",
    "sub_graph_overall2 = Graph(ug, prune=True)\n",
    "\n",
    "f=np.argwhere(sub_graph_overall2.vp['all_neighbours'].a==True).reshape(-1)\n",
    "\n",
    "sub_graph_overall2.get_total_degrees(f).mean()"
   ]
  },
  {
   "cell_type": "code",
   "execution_count": 28,
   "id": "3f59ddb4",
   "metadata": {},
   "outputs": [
    {
     "data": {
      "text/plain": [
       "[<matplotlib.lines.Line2D at 0x7f8d1ec58c70>]"
      ]
     },
     "execution_count": 28,
     "metadata": {},
     "output_type": "execute_result"
    },
    {
     "data": {
      "image/png": "[encoded data removed]",
      "text/plain": [
       "<Figure size 432x288 with 1 Axes>"
      ]
     },
     "metadata": {
      "needs_background": "light"
     },
     "output_type": "display_data"
    }
   ],
   "source": [
    "a,b=np.unique(ug.vp['insee'].a, return_counts=True)\n",
    "plt.plot(a,b, 'o')\n",
    "\n",
    "a,b=np.unique(sub_graph_overall2.vp['insee'].a, return_counts=True)\n",
    "plt.plot(a,b, 'o')"
   ]
  },
  {
   "cell_type": "code",
   "execution_count": 10,
   "id": "9605f9ef",
   "metadata": {},
   "outputs": [],
   "source": [
    "#sample_NEW(graph_overall)"
   ]
  },
  {
   "cell_type": "code",
   "execution_count": 11,
   "id": "722d7c94",
   "metadata": {},
   "outputs": [],
   "source": [
    "#list(graph_overall.vertex(10).out_neighbors())\n",
    "\n",
    "# label sampled nodes\n",
    "#for k in list_of_nmasked_vertices:\n",
    "#    graph_overall.vp.keep[k] = True\n",
    "    #graph_household.vp.keep[k] = True"
   ]
  },
  {
   "cell_type": "code",
   "execution_count": 12,
   "id": "6625d4e0",
   "metadata": {},
   "outputs": [],
   "source": [
    "# # random sampling\n",
    "# for k in graph_overall.get_vertices():\n",
    "#     graph_overall.vp.keep[k] = False\n",
    "    \n",
    "# print('sampling ...')\n",
    "\n",
    "# for k in np.random.choice(np.arange(int(graph_overall.num_vertices())), size=int(graph_overall.num_vertices()), replace=False):\n",
    "#     graph_overall.vp.keep[k] = True\n",
    "    \n",
    "# print('completed')"
   ]
  },
  {
   "cell_type": "code",
   "execution_count": 13,
   "id": "517bcb9e",
   "metadata": {},
   "outputs": [],
   "source": [
    "# graph_overall.get_total_degrees(graph_overall.get_vertices())>0"
   ]
  },
  {
   "cell_type": "code",
   "execution_count": 14,
   "id": "2dc11be9",
   "metadata": {},
   "outputs": [],
   "source": [
    "# u=8288023\n",
    "# v=8434576\n",
    "# graph_overall.edge(u, v, all_edges=True)\n",
    "# print(graph_overall.vp.keep[list_of_nmasked_vertices[2]])"
   ]
  },
  {
   "cell_type": "code",
   "execution_count": 15,
   "id": "10117535",
   "metadata": {},
   "outputs": [],
   "source": [
    "#ug = GraphView(graph_overall1, vfilt= (graph_overall1.vp['keep'].a==True))\n",
    "#sub_graph_overall2 = Graph(ug, prune=True)"
   ]
  },
  {
   "cell_type": "code",
   "execution_count": 16,
   "id": "f8a94d15",
   "metadata": {},
   "outputs": [],
   "source": [
    "# keep sampled individuals\n",
    "#ug1 = GraphView(graph_overall1, vfilt= (graph_overall1.vp['keep'].a==True))#, efilt= (graph_overall1.ep['purpose'].a!=6))\n",
    "#sub_ug1 = Graph(ug1, prune=True)\n",
    "\n",
    "# # keep non_HH contacts only\n",
    "# sug1 = GraphView(sub_ug1, efilt= (sub_ug1.ep['purpose'].a!=6))\n",
    "# sub_graph_overall1 = Graph(sug1, prune=True)"
   ]
  },
  {
   "cell_type": "code",
   "execution_count": 12,
   "id": "b3ca3f22",
   "metadata": {},
   "outputs": [],
   "source": [
    "# save csv file with sampled persons ids\n",
    "import os.path\n",
    "\n",
    "if not os.path.exists('sampled.csv'):\n",
    "    pd.DataFrame({'person_id': sub_graph_overall2.vp['id'].a, \n",
    "                  'full_contacts': sub_graph_overall2.vp['all_neighbours'].a}).to_csv('sampled.csv', index=False)\n",
    "    #ug.save('sampled_contact_network.xml.gz')\n",
    "    sub_graph_overall2.save('sampled_contact_network_26_09_2022.xml.gz')\n",
    "else:\n",
    "    print('File already exists !')"
   ]
  },
  {
   "cell_type": "code",
   "execution_count": 15,
   "id": "d1f5f9ac",
   "metadata": {},
   "outputs": [
    {
     "data": {
      "text/plain": [
       "2604967"
      ]
     },
     "execution_count": 15,
     "metadata": {},
     "output_type": "execute_result"
    }
   ],
   "source": [
    "source"
   ]
  },
  {
   "cell_type": "code",
   "execution_count": 20,
   "id": "d3707c6e",
   "metadata": {},
   "outputs": [
    {
     "data": {
      "text/plain": [
       "1"
      ]
     },
     "execution_count": 20,
     "metadata": {},
     "output_type": "execute_result"
    }
   ],
   "source": [
    "sum(sub_graph_overall2.vp.id.a==source)"
   ]
  },
  {
   "cell_type": "code",
   "execution_count": 35,
   "id": "6dcdac94",
   "metadata": {},
   "outputs": [],
   "source": [
    "# Additional codes\n",
    "\n",
    "u=sub_graph_overall2.vp['id'].a[sub_graph_overall2.get_edges()[:,0]]\n",
    "v=sub_graph_overall2.vp['id'].a[sub_graph_overall2.get_edges()[:,1]]"
   ]
  },
  {
   "cell_type": "code",
   "execution_count": 38,
   "id": "37599957",
   "metadata": {},
   "outputs": [],
   "source": [
    "df=pd.DataFrame({'idu': u, \n",
    "              'idv': v, \n",
    "              'duration': sub_graph_overall2.ep['duration'].a, \n",
    "              'purpose': sub_graph_overall2.ep['purpose'].a,\n",
    "              'location': sub_graph_overall2.ep['p'].a})"
   ]
  },
  {
   "cell_type": "code",
   "execution_count": 42,
   "id": "73ed671e",
   "metadata": {},
   "outputs": [],
   "source": [
    "df.to_csv('contacts.csv', index=False)"
   ]
  },
  {
   "cell_type": "code",
   "execution_count": 26,
   "id": "05f87b59",
   "metadata": {},
   "outputs": [
    {
     "name": "stdout",
     "output_type": "stream",
     "text": [
      "117560\n",
      "665294\n"
     ]
    }
   ],
   "source": [
    "print(ug.num_vertices())\n",
    "print(ug.num_edges())"
   ]
  },
  {
   "cell_type": "code",
   "execution_count": 461,
   "id": "440c610c",
   "metadata": {},
   "outputs": [
    {
     "data": {
      "text/plain": [
       "201981"
      ]
     },
     "execution_count": 461,
     "metadata": {},
     "output_type": "execute_result"
    }
   ],
   "source": [
    "#len(GraphView(graph_overall1, vfilt= (graph_overall1.vp['keep'].a==True), efilt= (graph_overall1.ep['purpose'].a!=6)).get_edges())"
   ]
  },
  {
   "cell_type": "code",
   "execution_count": 18,
   "id": "645eb0a4",
   "metadata": {},
   "outputs": [
    {
     "data": {
      "text/plain": [
       "(PropertyArray([0, 1, 2, 3, 4, 6], dtype=int32),\n",
       " array([12208580,  7938237, 23530004,   491692,  2221651, 12388619]))"
      ]
     },
     "execution_count": 18,
     "metadata": {},
     "output_type": "execute_result"
    }
   ],
   "source": [
    "np.unique(graph_overall1.ep['purpose'].a, return_counts=True)"
   ]
  },
  {
   "cell_type": "code",
   "execution_count": 19,
   "id": "5adb1dad",
   "metadata": {},
   "outputs": [],
   "source": [
    "# sub_graph_overall_without_group0.get_total_degrees(sub_graph_overall_without_group0.get_vertices()).max()"
   ]
  },
  {
   "cell_type": "code",
   "execution_count": 20,
   "id": "5b741ea4",
   "metadata": {},
   "outputs": [],
   "source": [
    "#u = GraphView(graph_household, vfilt= (graph_household.vp['keep'].a==1))\n",
    "#sub_graph_household = Graph(u, prune=True)"
   ]
  },
  {
   "cell_type": "code",
   "execution_count": 21,
   "id": "7304d122",
   "metadata": {},
   "outputs": [],
   "source": [
    "#sub_graph_household.num_vertices()"
   ]
  },
  {
   "cell_type": "code",
   "execution_count": 22,
   "id": "77fedd05",
   "metadata": {},
   "outputs": [
    {
     "data": {
      "text/plain": [
       "9.999983497473922"
      ]
     },
     "execution_count": 22,
     "metadata": {},
     "output_type": "execute_result"
    }
   ],
   "source": [
    "graph_overall1.num_edges()*2/graph_overall1.num_vertices()"
   ]
  },
  {
   "cell_type": "code",
   "execution_count": 24,
   "id": "3170d871",
   "metadata": {},
   "outputs": [
    {
     "data": {
      "text/plain": [
       "13.715260292616536"
      ]
     },
     "execution_count": 24,
     "metadata": {},
     "output_type": "execute_result"
    }
   ],
   "source": [
    "sub_graph_overall2.num_edges()*2/sub_graph_overall2.num_vertices()"
   ]
  },
  {
   "cell_type": "code",
   "execution_count": 25,
   "id": "d64d33f8",
   "metadata": {},
   "outputs": [],
   "source": [
    "# sub_graph_overall_without_group0.num_edges()*2/sub_graph_overall_without_group0.num_vertices()"
   ]
  },
  {
   "cell_type": "code",
   "execution_count": 26,
   "id": "3aee295d",
   "metadata": {},
   "outputs": [],
   "source": [
    "#graph_draw(sub_graph_overall)"
   ]
  },
  {
   "cell_type": "code",
   "execution_count": 23,
   "id": "d0ee38f5",
   "metadata": {},
   "outputs": [
    {
     "data": {
      "image/png": "[encoded data removed]",
      "text/plain": [
       "<Figure size 432x216 with 1 Axes>"
      ]
     },
     "metadata": {
      "needs_background": "light"
     },
     "output_type": "display_data"
    }
   ],
   "source": [
    "#graph_overall_dflt2.remove_vertex(source)\n",
    "\n",
    "\n",
    "\n",
    "fig, ax=plt.subplots(figsize=(6, 3))\n",
    "df1=pd.DataFrame(graph_overall1.vp['dep'].a).value_counts()/graph_overall1.num_vertices()\n",
    "df2=pd.DataFrame(sub_graph_overall2.vp['dep'].a).value_counts()/sub_graph_overall2.num_vertices()\n",
    "\n",
    "\n",
    "df3=df1.to_frame('dflt').join(df2.to_frame('sample'))\n",
    "\n",
    "width=0.3\n",
    "ax.bar(np.arange(len(df3.index))-width/2, df3['dflt'].values, width=width, label='ref. graph')\n",
    "ax.bar(np.arange(len(df3.index))+width/2, df3['sample'].values, width=width, label='MS BFS sampled graph')\n",
    "#fig.savefig('files/validation_{}.jpg'.format(5), bbox_inches='tight', dpi=300)\n",
    "\n",
    "ax.set_xticks(np.arange(len(df3.index)))\n",
    "ax.set_xticklabels([k[0] for k in df3.index])\n",
    "\n",
    "ax.set_xlabel('Department', fontsize='x-large')\n",
    "ax.set_ylabel('Proportion', fontsize='x-large')\n",
    "\n",
    "ax.legend(fontsize='x-large', frameon=False)\n",
    "\n",
    "fig.savefig('files/validation_{}.jpg'.format(5), bbox_inches='tight', dpi=300)\n",
    "plt.show()"
   ]
  },
  {
   "cell_type": "code",
   "execution_count": 24,
   "id": "a000c995",
   "metadata": {},
   "outputs": [
    {
     "data": {
      "image/png": "[encoded data removed]",
      "text/plain": [
       "<Figure size 450x270 with 1 Axes>"
      ]
     },
     "metadata": {
      "needs_background": "light"
     },
     "output_type": "display_data"
    }
   ],
   "source": [
    "scale=1.25\n",
    "fig, ax=plt.subplots(figsize=(5*scale, 3*scale))\n",
    "\n",
    "bins=np.linspace(0, 120, 12)\n",
    "\n",
    "ax.hist(graph_overall_dflt2.vp['age'].a, bins, density=True, alpha=1., label='ref. graph', histtype='step')\n",
    "ax.hist(sub_graph_overall2.vp['age'].a, bins, density=True, alpha=1., label='MS BFS sampled graph', histtype='step')\n",
    "ax.legend(fontsize='large', frameon=False)\n",
    "\n",
    "ax.set_xlabel('10 year age groups', fontsize='x-large')\n",
    "ax.set_ylabel('Proportion', fontsize='x-large')\n",
    "\n",
    "fig.savefig('files/validation_{}.jpg'.format(7), bbox_inches='tight', dpi=300)\n",
    "\n",
    "plt.show()"
   ]
  },
  {
   "cell_type": "code",
   "execution_count": 25,
   "id": "3a83454b",
   "metadata": {},
   "outputs": [
    {
     "data": {
      "image/png": "[encoded data removed]",
      "text/plain": [
       "<Figure size 720x216 with 2 Axes>"
      ]
     },
     "metadata": {
      "needs_background": "light"
     },
     "output_type": "display_data"
    }
   ],
   "source": [
    "fig, (ax1, ax2)=plt.subplots(figsize=(2*5, 3), ncols=2, tight_layout=True)\n",
    "\n",
    "bins=np.linspace(0, 100, 2**6)\n",
    "\n",
    "ddp1=ax1.hist(graph_overall_dflt2.get_total_degrees(graph_overall_dflt2.get_vertices()),bins, density=True, alpha=1., histtype='step')[0]\n",
    "ddp2=ax1.hist(sub_graph_overall2.get_total_degrees(sub_graph_overall2.get_vertices()),bins, density=True, alpha=1., histtype='step')[0]\n",
    "#ax1.set_xlim(0, 100)\n",
    "\n",
    "ax2.loglog(ddp1,'-o', label='ref. graph', alpha=1., mec='k', mew=0.5)\n",
    "ax2.loglog(ddp2,'-o', label='MS BFS sampled graph', alpha=1., mec='k', mew=0.5)\n",
    "ax2.legend(fontsize='x-large', frameon=False)\n",
    "\n",
    "ax1.set_xlabel('Total degree (or number of contacts / person)', fontsize='x-large')\n",
    "ax1.set_ylabel('Density', fontsize='x-large')\n",
    "\n",
    "ax2.set_xlabel('Total degree (or number of contacts / person)', fontsize='x-large')\n",
    "ax2.set_ylabel('Density', fontsize='x-large')\n",
    "\n",
    "#ax1.grid(True, lw=0.1)\n",
    "#ax2.grid(True, lw=0.1)\n",
    "\n",
    "ax1.set_title('(linear)')\n",
    "ax2.set_title('(log-log)')\n",
    "\n",
    "fig.savefig('files/validation_{}.jpg'.format(6), bbox_inches='tight', dpi=300)\n"
   ]
  },
  {
   "cell_type": "code",
   "execution_count": 83,
   "id": "18e0615d",
   "metadata": {},
   "outputs": [],
   "source": [
    "#sub_graph_overall.save(\"files/sub_graph_weekday_nhousehold_all.xml.gz\")\n",
    "#sub_graph_household.save(\"files/sub_graph_weekday_household_all.xml.gz\")"
   ]
  },
  {
   "cell_type": "code",
   "execution_count": 30,
   "id": "222000e5",
   "metadata": {},
   "outputs": [
    {
     "data": {
      "image/png": "[encoded data removed]",
      "text/plain": [
       "<Figure size 1080x288 with 1 Axes>"
      ]
     },
     "metadata": {
      "needs_background": "light"
     },
     "output_type": "display_data"
    }
   ],
   "source": [
    "def get_rmse(pred, obs):\n",
    "    return np.round(np.sqrt(((pred-obs)**2).sum()/len(pred)),2)\n",
    "\n",
    "# get id's of persons conditioned on age\n",
    "\n",
    "mnrc=[]\n",
    "\n",
    "for u,v in zip([0, 5, 10, 15, 20, 25, 35, 45, 65], [5, 10, 15, 20, 25, 35, 45, 65, 120]):\n",
    "    f=np.asarray((sub_graph_overall2.vp['age'].a>=u)&(sub_graph_overall2.vp['age'].a<v))\n",
    "    f=sub_graph_overall2.get_vertices()[f]\n",
    "    #print('{}-{} - {}'.format(u,v, 1*np.round(graph_overall.get_total_degrees(f).mean(), 2)))\n",
    "    mnrc.append(np.round(sub_graph_overall2.get_total_degrees(f).mean(), 2))\n",
    "\n",
    "size=2.\n",
    "fig, ax=plt.subplots(figsize=(7.5*size,2.*size))\n",
    "\n",
    "\n",
    "n=0\n",
    "data=np.array([8.64, 10.5, 12.92, 12.96, 11.14, 9.95, 9.93, 9.24, 7.01])\n",
    "#data=data/data[n]\n",
    "\n",
    "std=np.asarray(mnrc)\n",
    "#std=std/std[n]\n",
    "\n",
    "\n",
    "width=0.2\n",
    "ax.bar(np.arange(len(mnrc))- width/2, std, width=width, label='mobility model (sampled)')\n",
    "ax.bar(np.arange(len(mnrc))+ width/2, data, width=width, label='contact survey')\n",
    "ax.legend(fontsize='x-large', loc='best')\n",
    "#ax.grid(True, lw=0.1)\n",
    "#ax.set_yticks(np.arange(4)/2)\n",
    "ax.set_xlabel('Age',fontsize='x-large')\n",
    "ax.set_ylabel('Contact rate',fontsize='x-large')\n",
    "ax.set_xticks(np.arange(9))\n",
    "ax.set_xticklabels(['0-4', '5-9', '10-14', '15-19', '20-24', '25-34', '35-44', '45-64', '65+'], rotation=45, fontsize='x-large')\n",
    "# ax.axhline(y=10., color='red', lw=0.1)\n",
    "ax.set_title('Full population', fontsize='x-large')\n",
    "ax.text(0, 12, 'RMSE='+ str(get_rmse(std, data)), fontsize='x-large')\n",
    "\n",
    "#fig.savefig('files/graphs/contacts_by_age-ref.jpg', bbox_inches='tight', dpi=300)\n",
    "\n",
    "plt.show()"
   ]
  },
  {
   "cell_type": "code",
   "execution_count": 256,
   "id": "9b135940",
   "metadata": {},
   "outputs": [],
   "source": [
    "# save BFS sampled contact network\n",
    "\n",
    "#sub_graph_overall2.save(\"files/graphs/contact_network2_BFSsampled_5pc.xml.gz\")"
   ]
  },
  {
   "cell_type": "code",
   "execution_count": 31,
   "id": "12bfa075",
   "metadata": {},
   "outputs": [],
   "source": [
    "# toy graph\n",
    "\n",
    "# g = load_graph(\"search_example.xml\")\n",
    "# name = g.vp[\"name\"]\n",
    "# weight = g.ep[\"weight\"]\n",
    "# pos = g.vp[\"pos\"]\n",
    "# graph_draw(g, pos, vertex_text=name, vertex_font_size=12, vertex_shape=\"double_circle\",\n",
    "#               vertex_fill_color=\"#729fcf\", vertex_pen_width=3,\n",
    "#               edge_pen_width=weight)"
   ]
  },
  {
   "cell_type": "code",
   "execution_count": 32,
   "id": "05ab66a7",
   "metadata": {},
   "outputs": [],
   "source": [
    "# class VisitorExample(BFSVisitor):\n",
    "\n",
    "#     def __init__(self, name, pred, dist):\n",
    "#         self.name = name\n",
    "#         self.pred = pred\n",
    "#         self.dist = dist\n",
    "\n",
    "#     def discover_vertex(self, u):\n",
    "#         print(\"-->\", self.name[u], \"has been discovered!\")\n",
    "\n",
    "#     #def examine_vertex(self, u):\n",
    "#     #    print(self.name[u], \"has been examined...\")\n",
    "    \n",
    "#     def finish_vertex(self,u):\n",
    "#         print(self.name[u], 'completed !')\n",
    "\n",
    "#     def tree_edge(self, e):\n",
    "#         self.pred[e.target()] = int(e.source())\n",
    "#         self.dist[e.target()] = self.dist[e.source()] + 1\n",
    "        \n",
    "# dist = g.new_vertex_property(\"int\")\n",
    "# pred = g.new_vertex_property(\"int64_t\")\n",
    "# bfs_search(g, g.vertex(0), VisitorExample(name, pred, dist))"
   ]
  },
  {
   "cell_type": "code",
   "execution_count": 465,
   "id": "2db68fa4",
   "metadata": {},
   "outputs": [],
   "source": [
    "# from numba import njit, prange\n",
    "\n",
    "# @njit(fastmath=True, parallel=False)\n",
    "# def isin2(value, array):\n",
    "\n",
    "    \n",
    "#     flag=False\n",
    "\n",
    "#     for i in prange(array.shape[0]):\n",
    "#         if array[i,0]==value[0] and array[i,1]==value[1]:\n",
    "#             flag= True\n",
    "            \n",
    "#         if array[i,0]==value[1] and array[i,1]==value[0]:\n",
    "#             flag= True\n",
    "\n",
    "#     return flag\n",
    "\n",
    "# @njit(fastmath=True)\n",
    "# def isin(value, A):\n",
    "#     return len(np.where((A-value).sum(axis=1)==0)[0])>0\n",
    "\n",
    "\n",
    "# @njit(fastmath=True)\n",
    "# def isin3(value, A):\n",
    "#     return (~np.all(A- value, 1)).sum()>0\n",
    "\n",
    "\n",
    "# def isin4(value, A):\n",
    "#     return value in list(A)"
   ]
  },
  {
   "cell_type": "code",
   "execution_count": 33,
   "id": "dd95cae4",
   "metadata": {},
   "outputs": [],
   "source": [
    "# start_time = time.time()\n",
    "# isin(np.array([ 51027, -1]), unique_pairs)\n",
    "# print(\"--- %s seconds ---\" % (time.time() - start_time))\n",
    "\n",
    "\n",
    "# start_time = time.time()\n",
    "# isin2(np.array([ 51027, -1]), unique_pairs)\n",
    "# print(\"--- %s seconds ---\" % (time.time() - start_time))\n",
    "\n",
    "\n",
    "# start_time = time.time()\n",
    "# isin4(( 51027, -1), A_tuples)\n",
    "# print(\"--- %s seconds ---\" % (time.time() - start_time))\n",
    "\n",
    "# #start_time = time.time()\n",
    "# #isin3(np.array([ 51027, 227751]), unique_pairs)\n",
    "# #print(\"--- %s seconds ---\" % (time.time() - start_time))"
   ]
  },
  {
   "cell_type": "code",
   "execution_count": 34,
   "id": "c7aa0c90",
   "metadata": {},
   "outputs": [],
   "source": [
    "# from numba import njit\n",
    "\n",
    "\n",
    "\n",
    "# def filter_by_location(np_array):\n",
    "    \n",
    "#     # Sort input array test w.r.t. first column that are IDs\n",
    "#     test_sorted = np_array[np_array[:,1].argsort()]\n",
    "\n",
    "#     # Convert the string IDs to numeric IDs\n",
    "#     locations = np.unique(test_sorted[:,1], return_inverse=False)\n",
    "#     # print('shape of numeric_ID {}'.format(numeric_ID.shape))\n",
    "\n",
    "#     # Get the indices where shifts (IDs change) occur\n",
    "#     _,cut_idx = np.unique(test_sorted[:,1],return_index=True)\n",
    "\n",
    "#     # Use the indices to split the input array into sub-arrays with common IDs\n",
    "#     return np.split(test_sorted,cut_idx)[1:]\n",
    "\n",
    "# @njit\n",
    "# def check_intersections(test_case, purpose=None, odp=None):\n",
    "    \n",
    "#     # ID - LOCATION - START TIME - END TIME / PURPOSE\n",
    "    \n",
    "#     edge_list=[]\n",
    "#     act=np.array([[0,  3,  4],\n",
    "#                   [3,  1,  5],\n",
    "#                   [4,  5,  2]])\n",
    "        \n",
    "#     for i in range(test_case.shape[0]-1): # loop through the activty-travel diaries\n",
    "#         row=test_case[i]\n",
    "#         pu=purpose[i] # origin\n",
    "        \n",
    "#         rem=test_case[(i+1):]\n",
    "        \n",
    "#         for k, pv in zip(rem, purpose[(i+1):]):  \n",
    "#             if k[0]!=row[0]: # if individuals are different\n",
    "                \n",
    "#                 tp=np.array([k[0], row[0]])\n",
    "                    \n",
    "#                 if isin2(tp, odp)==False:\n",
    "#                     break\n",
    "                    \n",
    "#                 if row[-1]<=k[2]: # no intersection\n",
    "#                     break\n",
    "                    \n",
    "#                 if pu>2:\n",
    "#                     pu=2\n",
    "                \n",
    "#                 if pv>2:\n",
    "#                     pv=2\n",
    "                    \n",
    "#                 if row[-1]<k[-1]:\n",
    "#                     d=row[-1]-k[2]\n",
    "#                 else:\n",
    "#                     d=k[-1]-k[2]\n",
    "\n",
    "#                 edge_list.append((row[0], k[0], d, act[pu, pv], row[1]))\n",
    "\n",
    "#     return edge_list\n",
    "\n",
    "# @njit\n",
    "# def check_intersections2(test_case, purpose=None, odp=None):\n",
    "    \n",
    "#     # ID - LOCATION - START TIME - END TIME / PURPOSE\n",
    "    \n",
    "#     edge_list=[]\n",
    "#     act=np.array([[0,  3,  4],\n",
    "#                   [3,  1,  5],\n",
    "#                   [4,  5,  2]])\n",
    "        \n",
    "#     for i in range(test_case.shape[0]-1): # loop through the activty-travel diaries\n",
    "#         row=test_case[i]\n",
    "#         pu=purpose[i] # origin\n",
    "        \n",
    "#         rem=test_case[(i+1):]\n",
    "        \n",
    "#         for k, pv in zip(rem, purpose[(i+1):]):  \n",
    "#             if k[0]!=row[0]: # if individuals are different\n",
    "                    \n",
    "#                 if row[-1]<=k[2]: # no intersection\n",
    "#                     break\n",
    "                    \n",
    "#                 if pu>2:\n",
    "#                     pu=2\n",
    "                \n",
    "#                 if pv>2:\n",
    "#                     pv=2\n",
    "                    \n",
    "#                 if row[-1]<k[-1]:\n",
    "#                     d=row[-1]-k[2]\n",
    "#                 else:\n",
    "#                     d=k[-1]-k[2]\n",
    "\n",
    "#                 edge_list.append((row[0], k[0], d, act[pu, pv], row[1]))\n",
    "\n",
    "#     return edge_list\n",
    "\n",
    "# @njit\n",
    "# def get_properties_potential_contact_network(test_case, purpose=None):\n",
    "    \n",
    "#     # ID - LOCATION - START TIME - END TIME / PURPOSE\n",
    "     \n",
    "#     act=np.zeros((3, 3))\n",
    "#     number_of_contacts_per_location=0\n",
    "        \n",
    "#     for i in range(test_case.shape[0]-1): # loop through the activty-travel diaries\n",
    "#         row=test_case[i]\n",
    "#         pu=purpose[i] # origin\n",
    "        \n",
    "#         rem=test_case[(i+1):]\n",
    "        \n",
    "#         for k, pv in zip(rem, purpose[(i+1):]):  \n",
    "#             if k[0]!=row[0]: # if individuals are different\n",
    "                \n",
    "#                 if row[-1]<=k[2]: # no intersection\n",
    "#                     break\n",
    "#                 else:\n",
    "#                     if pu>2:\n",
    "#                         pu=2\n",
    "                \n",
    "#                     if pv>2:\n",
    "#                         pv=2\n",
    "#                     act[pu, pv]+=1\n",
    "#                     number_of_contacts_per_location+=1\n",
    "\n",
    "#     return act, number_of_contacts_per_location\n",
    "\n",
    "# # @njit\n",
    "# # def get_updated_contacts(od_pairs, travel_diaries, purpose):\n",
    "# #     # od_pairs ==> (u,v)\n",
    "# #     # travel_diaries ==> id, loc_id, st, ed\n",
    "# #     list_of_new_contacts=[]\n",
    "\n",
    "    \n",
    "# #     for k in od_pairs:\n",
    "# #         u, v= k[0], k[1]\n",
    "# #         fu=np.where(travel_diaries[:,0]==u)[0]\n",
    "# #         fv=np.where(travel_diaries[:,0]==v)[0]\n",
    "# #         fstacked=np.hstack((fu,fv))\n",
    "# #         fo=check_intersections(travel_diaries[fstacked], purpose=purpose[fstacked])\n",
    "# #         list_of_new_contacts.extend(fo)\n",
    "\n",
    "        \n",
    "# #     return list_of_new_contacts"
   ]
  },
  {
   "cell_type": "code",
   "execution_count": 35,
   "id": "6c536412",
   "metadata": {},
   "outputs": [],
   "source": [
    "# import time\n",
    "\n",
    "# f=graph_overall1.get_vertices()[graph_overall1.vp['keep'].a==True]\n",
    "# df=df_activities[df_activities['person_id_gt'].isin(f)]\n",
    "\n",
    "# travel_diaries=df[['person_id_gt','location_id','start_time','end_time']].values\n",
    "# purpose=df['purpose'].values\n",
    "\n",
    "# unique_pairs=set([(k[0], k[1]) if k[0]<k[1] else (k[1], k[0]) for k in ug1.get_edges()])\n",
    "# unique_pairs=np.asarray(list(unique_pairs))"
   ]
  },
  {
   "cell_type": "code",
   "execution_count": 37,
   "id": "a021051c",
   "metadata": {},
   "outputs": [],
   "source": [
    "# out=filter_by_location(df[['person_id_gt','location_id','start_time','end_time','purpose']].astype(int).values)"
   ]
  },
  {
   "cell_type": "code",
   "execution_count": 38,
   "id": "2c95705b",
   "metadata": {},
   "outputs": [],
   "source": [
    "# #unique_pairs=np.array([[1,2],[2,3]])\n",
    "# #travel_diaries=np.array([[1,2,20, 30],[2,2,25,40],[3,2,35,45]])\n",
    "# #purpose=np.array([1,1,3])\n",
    "\n",
    "# print('Checking ...')\n",
    "# sst=time.time()\n",
    "# # list_of_new_contacts=get_updated_contacts(unique_pairs, travel_diaries, purpose)\n",
    "\n",
    "# cpt=0\n",
    "# list_of_new_contacts=[]\n",
    "\n",
    "\n",
    "# with tqdm(total=len(out), position=0, leave=True) as pbar:    \n",
    "#     for k in out:\n",
    "#         if len(np.unique(k[:,0]))>1:\n",
    "#             ks=k[k[:, 2].argsort()]\n",
    "#             list_of_new_contacts.extend(check_intersections2(ks[:,0:-1], purpose=ks[:,-1], odp=unique_pairs))\n",
    "        \n",
    "#         pbar.update(1)\n",
    "\n",
    "\n",
    "# print(time.time()-sst)"
   ]
  },
  {
   "cell_type": "code",
   "execution_count": 39,
   "id": "0569f083",
   "metadata": {},
   "outputs": [],
   "source": [
    "#print('lack of', ug1.get_edges().shape[0]-(len(list_of_new_contacts)+len(list_of_contacts_in_HH)), 'links')"
   ]
  },
  {
   "cell_type": "code",
   "execution_count": 40,
   "id": "a6c148a8",
   "metadata": {},
   "outputs": [],
   "source": [
    "# ## DATA PRE-PROCESSING\n",
    "\n",
    "# df_persons=pd.read_csv('data/all/egt/persons.csv',';').drop(['Unnamed: 0'], axis=1)\n",
    "# df_persons['person_id_gt']=df_persons.index\n",
    "\n",
    "# df_activities=pd.read_csv('data/all/egt/activities.csv').drop(['Unnamed: 0'], axis=1).rename(columns={'uid':'location_id'})\n",
    "# df_activities=df_activities[df_activities['purpose']!='home']\n",
    "# df_activities=df_activities[(~df_activities.start_time.isnull())&(~df_activities.end_time.isnull())]\n",
    "# df_activities['purpose']=df_activities['purpose'].astype('category').cat.reorder_categories(['work', 'education', 'leisure', 'shop', 'other']).cat.codes\n",
    "# df_activities=df_activities.merge(df_persons[['person_id_gt', 'person_id','age']], on='person_id') "
   ]
  },
  {
   "cell_type": "code",
   "execution_count": 480,
   "id": "022951e7",
   "metadata": {},
   "outputs": [],
   "source": [
    "#sub_ug1.save(\"files/graphs/cgraph.graphml\")"
   ]
  },
  {
   "cell_type": "code",
   "execution_count": 485,
   "id": "df1ea003",
   "metadata": {},
   "outputs": [],
   "source": [
    "# df_p.to_csv('pam/examples/pop/ref/persons.csv')\n",
    "# df.to_csv('pam/examples/pop/ref/activities.csv')"
   ]
  },
  {
   "cell_type": "code",
   "execution_count": 484,
   "id": "9ca38547",
   "metadata": {},
   "outputs": [],
   "source": [
    "# sub_ug2.save('pam/examples/pop/ref/contact_graph.xml.gz')"
   ]
  },
  {
   "cell_type": "code",
   "execution_count": 20,
   "id": "7a9c3499",
   "metadata": {},
   "outputs": [
    {
     "name": "stdout",
     "output_type": "stream",
     "text": [
      "[0 1 2 3 4 6] [12208580  7938237 23530004   491692  2221651 12388619]\n"
     ]
    }
   ],
   "source": [
    "unq, cnt=np.unique(ug.ep['purpose'].a, return_counts=True)\n",
    "print(unq, cnt)"
   ]
  },
  {
   "cell_type": "code",
   "execution_count": 21,
   "id": "d169ccc0",
   "metadata": {},
   "outputs": [],
   "source": [
    "pd.DataFrame({'contact_type': unq, 'freq': cnt}).to_csv('contact_freq_sampled_graph.csv')"
   ]
  },
  {
   "cell_type": "code",
   "execution_count": 22,
   "id": "55610522",
   "metadata": {},
   "outputs": [],
   "source": [
    "# load sampled graph, to generate a csv file with contacts, to make the vizualisation maps\n",
    "\n",
    "#sampled_graph=load_graph('./pam/examples/pop/ref/contact_graph.xml.gz')\n",
    "sampled_graph=ug"
   ]
  },
  {
   "cell_type": "code",
   "execution_count": 23,
   "id": "6e8f3383",
   "metadata": {},
   "outputs": [],
   "source": [
    "df=pd.DataFrame(sampled_graph.get_edges([sampled_graph.ep['duration'], sampled_graph.ep['purpose']]), columns=['u','v','duration','purpose'])\n",
    "df.to_csv('contacts_sampled_graph.csv')"
   ]
  },
  {
   "cell_type": "code",
   "execution_count": 24,
   "id": "3e6cc144",
   "metadata": {},
   "outputs": [],
   "source": [
    "# save csv file with sampled persons ids\n",
    "import os.path\n",
    "\n",
    "if not os.path.exists('sampled.csv'):\n",
    "    pd.DataFrame({'person_id': ug.get_vertices()}).to_csv('sampled.csv')\n",
    "else:\n",
    "    print('File already exists !')"
   ]
  },
  {
   "cell_type": "code",
   "execution_count": null,
   "id": "8480438b",
   "metadata": {},
   "outputs": [],
   "source": []
  }
 ],
 "metadata": {
  "kernelspec": {
   "display_name": "Python 3",
   "language": "python",
   "name": "python3"
  },
  "language_info": {
   "codemirror_mode": {
    "name": "ipython",
    "version": 3
   },
   "file_extension": ".py",
   "mimetype": "text/x-python",
   "name": "python",
   "nbconvert_exporter": "python",
   "pygments_lexer": "ipython3",
   "version": "3.9.5"
  }
 },
 "nbformat": 4,
 "nbformat_minor": 5
}
