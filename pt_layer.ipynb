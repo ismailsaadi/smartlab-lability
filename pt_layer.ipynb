{
 "cells": [
  {
   "cell_type": "code",
   "execution_count": 138,
   "id": "ea0d099c",
   "metadata": {},
   "outputs": [],
   "source": [
    "import geopandas as gpd\n",
    "import matplotlib.pyplot as plt\n",
    "import pandas as pd\n",
    "from shapely.geometry import MultiPoint"
   ]
  },
  {
   "cell_type": "code",
   "execution_count": 139,
   "id": "ac024bf9",
   "metadata": {},
   "outputs": [],
   "source": [
    "gdf=gpd.read_file('C:/Users/saadi/Documents/smartlab/data/communes/communes-dile-de-france-au-01-janvier.shp')"
   ]
  },
  {
   "cell_type": "code",
   "execution_count": 140,
   "id": "b4dbcca0",
   "metadata": {},
   "outputs": [
    {
     "data": {
      "text/plain": [
       "<Geographic 2D CRS: EPSG:4326>\n",
       "Name: WGS 84\n",
       "Axis Info [ellipsoidal]:\n",
       "- Lat[north]: Geodetic latitude (degree)\n",
       "- Lon[east]: Geodetic longitude (degree)\n",
       "Area of Use:\n",
       "- name: World.\n",
       "- bounds: (-180.0, -90.0, 180.0, 90.0)\n",
       "Datum: World Geodetic System 1984 ensemble\n",
       "- Ellipsoid: WGS 84\n",
       "- Prime Meridian: Greenwich"
      ]
     },
     "execution_count": 140,
     "metadata": {},
     "output_type": "execute_result"
    }
   ],
   "source": [
    "gdf.crs"
   ]
  },
  {
   "cell_type": "code",
   "execution_count": 152,
   "id": "b6049894",
   "metadata": {},
   "outputs": [],
   "source": [
    "gdf_trips=gpd.read_file('D:/entd/trips.gpkg', rows=100000)"
   ]
  },
  {
   "cell_type": "code",
   "execution_count": 153,
   "id": "dd0fd71f",
   "metadata": {},
   "outputs": [],
   "source": [
    "#gdf_trips.head()"
   ]
  },
  {
   "cell_type": "code",
   "execution_count": 154,
   "id": "df0214f1",
   "metadata": {},
   "outputs": [],
   "source": [
    "gdf_trips_pt=gdf_trips[gdf_trips['mode']=='pt'].copy()"
   ]
  },
  {
   "cell_type": "code",
   "execution_count": 155,
   "id": "c1dd3b30",
   "metadata": {},
   "outputs": [],
   "source": [
    "gdf=gdf.to_crs(gdf_trips_pt.crs)"
   ]
  },
  {
   "cell_type": "code",
   "execution_count": 156,
   "id": "390ed975",
   "metadata": {},
   "outputs": [],
   "source": [
    "cpt=0\n",
    "list_of_origins=[]\n",
    "\n",
    "for k in gdf_trips_pt['geometry'].boundary:\n",
    "    if not k.is_empty:\n",
    "        list_of_origins.append(k.geoms[0]) # append origin\n",
    "        \n",
    "    else:\n",
    "        list_of_origins.append(MultiPoint())"
   ]
  },
  {
   "cell_type": "code",
   "execution_count": 157,
   "id": "e3bb883b",
   "metadata": {},
   "outputs": [
    {
     "name": "stderr",
     "output_type": "stream",
     "text": [
      "C:\\Users\\saadi\\Anaconda3\\envs\\coworking\\lib\\site-packages\\pandas\\core\\dtypes\\cast.py:122: ShapelyDeprecationWarning: The array interface is deprecated and will no longer work in Shapely 2.0. Convert the '.coords' to a numpy array instead.\n",
      "  arr = construct_1d_object_array_from_listlike(values)\n",
      "C:\\Users\\saadi\\Anaconda3\\envs\\coworking\\lib\\site-packages\\pandas\\core\\dtypes\\cast.py:1981: ShapelyDeprecationWarning: __len__ for multi-part geometries is deprecated and will be removed in Shapely 2.0. Check the length of the `geoms` property instead to get the  number of parts of a multi-part geometry.\n",
      "  result[:] = values\n",
      "C:\\Users\\saadi\\AppData\\Local\\Temp\\ipykernel_26804\\3506788566.py:2: SettingWithCopyWarning: \n",
      "A value is trying to be set on a copy of a slice from a DataFrame.\n",
      "Try using .loc[row_indexer,col_indexer] = value instead\n",
      "\n",
      "See the caveats in the documentation: https://pandas.pydata.org/pandas-docs/stable/user_guide/indexing.html#returning-a-view-versus-a-copy\n",
      "  updated_gdf['geometry']=list_of_origins\n"
     ]
    }
   ],
   "source": [
    "updated_gdf=gdf_trips_pt[['person_id','departure_time', 'arrival_time','following_purpose']]\n",
    "updated_gdf['geometry']=list_of_origins\n",
    "updated_gdf = gpd.GeoDataFrame(updated_gdf, crs=gdf_trips.crs)"
   ]
  },
  {
   "cell_type": "code",
   "execution_count": 158,
   "id": "954c8e72",
   "metadata": {},
   "outputs": [],
   "source": [
    "#scale=2.\n",
    "#fig, ax=plt.subplots(figsize=(8*scale,3*scale))\n",
    "\n",
    "#gdf.boundary.plot(ax=ax, color='k', lw=0.1)\n",
    "#updated_gdf.plot(ax=ax)\n",
    "#plt.show()"
   ]
  },
  {
   "cell_type": "code",
   "execution_count": 159,
   "id": "c97f8b79",
   "metadata": {},
   "outputs": [],
   "source": [
    "merged_gdf = gpd.sjoin(updated_gdf, gdf[['insee', 'geometry']], how=\"left\", op=\"within\")"
   ]
  },
  {
   "cell_type": "code",
   "execution_count": 160,
   "id": "b4fa4a82",
   "metadata": {},
   "outputs": [],
   "source": [
    "x=merged_gdf['insee'].value_counts()"
   ]
  },
  {
   "cell_type": "code",
   "execution_count": 162,
   "id": "2b891668",
   "metadata": {},
   "outputs": [
    {
     "data": {
      "text/plain": [
       "<AxesSubplot:>"
      ]
     },
     "execution_count": 162,
     "metadata": {},
     "output_type": "execute_result"
    },
    {
     "data": {
      "image/png": "[encoded data removed]",
      "text/plain": [
       "<Figure size 432x288 with 1 Axes>"
      ]
     },
     "metadata": {
      "needs_background": "light"
     },
     "output_type": "display_data"
    }
   ],
   "source": [
    "fig, ax=plt.subplots()\n",
    "gdf.merge(pd.DataFrame({'insee': x.index.astype(int), 'counts': x.values}), on='insee').plot(column='counts', cmap='Reds', ax=ax)"
   ]
  },
  {
   "cell_type": "code",
   "execution_count": null,
   "id": "fb2a376a",
   "metadata": {},
   "outputs": [],
   "source": []
  }
 ],
 "metadata": {
  "kernelspec": {
   "display_name": "Python (coworking)",
   "language": "python",
   "name": "coworking"
  },
  "language_info": {
   "codemirror_mode": {
    "name": "ipython",
    "version": 3
   },
   "file_extension": ".py",
   "mimetype": "text/x-python",
   "name": "python",
   "nbconvert_exporter": "python",
   "pygments_lexer": "ipython3",
   "version": "3.9.9"
  }
 },
 "nbformat": 4,
 "nbformat_minor": 5
}
