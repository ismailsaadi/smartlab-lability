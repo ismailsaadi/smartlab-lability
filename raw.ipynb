{
 "cells": [
  {
   "cell_type": "code",
   "execution_count": 7,
   "id": "eb30064b",
   "metadata": {},
   "outputs": [],
   "source": [
    "import numpy as np\n",
    "import geopandas as gpd\n",
    "import pandas as pd\n",
    "import matplotlib.pyplot as plt"
   ]
  },
  {
   "cell_type": "code",
   "execution_count": 8,
   "id": "1c4d469e",
   "metadata": {},
   "outputs": [],
   "source": [
    "source='entd'"
   ]
  },
  {
   "cell_type": "code",
   "execution_count": 2,
   "id": "66d1a643",
   "metadata": {},
   "outputs": [
    {
     "data": {
      "text/html": [
       "<div>\n",
       "<style scoped>\n",
       "    .dataframe tbody tr th:only-of-type {\n",
       "        vertical-align: middle;\n",
       "    }\n",
       "\n",
       "    .dataframe tbody tr th {\n",
       "        vertical-align: top;\n",
       "    }\n",
       "\n",
       "    .dataframe thead th {\n",
       "        text-align: right;\n",
       "    }\n",
       "</style>\n",
       "<table border=\"1\" class=\"dataframe\">\n",
       "  <thead>\n",
       "    <tr style=\"text-align: right;\">\n",
       "      <th></th>\n",
       "      <th>numdep</th>\n",
       "      <th>insee</th>\n",
       "      <th>geometry</th>\n",
       "    </tr>\n",
       "  </thead>\n",
       "  <tbody>\n",
       "    <tr>\n",
       "      <th>0</th>\n",
       "      <td>77</td>\n",
       "      <td>77472</td>\n",
       "      <td>POLYGON ((719300.000 6862265.000, 719025.000 6...</td>\n",
       "    </tr>\n",
       "    <tr>\n",
       "      <th>1</th>\n",
       "      <td>91</td>\n",
       "      <td>91315</td>\n",
       "      <td>POLYGON ((652141.000 6821256.000, 652003.000 6...</td>\n",
       "    </tr>\n",
       "    <tr>\n",
       "      <th>2</th>\n",
       "      <td>78</td>\n",
       "      <td>78472</td>\n",
       "      <td>POLYGON ((614174.000 6818160.000, 613852.000 6...</td>\n",
       "    </tr>\n",
       "    <tr>\n",
       "      <th>3</th>\n",
       "      <td>77</td>\n",
       "      <td>77038</td>\n",
       "      <td>POLYGON ((670513.000 6824029.000, 670617.000 6...</td>\n",
       "    </tr>\n",
       "    <tr>\n",
       "      <th>4</th>\n",
       "      <td>78</td>\n",
       "      <td>78672</td>\n",
       "      <td>POLYGON ((627350.000 6869424.000, 626591.000 6...</td>\n",
       "    </tr>\n",
       "    <tr>\n",
       "      <th>...</th>\n",
       "      <td>...</td>\n",
       "      <td>...</td>\n",
       "      <td>...</td>\n",
       "    </tr>\n",
       "    <tr>\n",
       "      <th>1282</th>\n",
       "      <td>78</td>\n",
       "      <td>78522</td>\n",
       "      <td>POLYGON ((623157.000 6831138.000, 622832.000 6...</td>\n",
       "    </tr>\n",
       "    <tr>\n",
       "      <th>1283</th>\n",
       "      <td>77</td>\n",
       "      <td>77388</td>\n",
       "      <td>POLYGON ((713444.000 6871672.000, 712473.000 6...</td>\n",
       "    </tr>\n",
       "    <tr>\n",
       "      <th>1284</th>\n",
       "      <td>75</td>\n",
       "      <td>75113</td>\n",
       "      <td>POLYGON ((651823.000 6857499.000, 651706.000 6...</td>\n",
       "    </tr>\n",
       "    <tr>\n",
       "      <th>1285</th>\n",
       "      <td>75</td>\n",
       "      <td>75118</td>\n",
       "      <td>POLYGON ((650654.000 6865040.000, 650881.000 6...</td>\n",
       "    </tr>\n",
       "    <tr>\n",
       "      <th>1286</th>\n",
       "      <td>75</td>\n",
       "      <td>75111</td>\n",
       "      <td>POLYGON ((655904.000 6861063.000, 653700.000 6...</td>\n",
       "    </tr>\n",
       "  </tbody>\n",
       "</table>\n",
       "<p>1287 rows × 3 columns</p>\n",
       "</div>"
      ],
      "text/plain": [
       "      numdep  insee                                           geometry\n",
       "0         77  77472  POLYGON ((719300.000 6862265.000, 719025.000 6...\n",
       "1         91  91315  POLYGON ((652141.000 6821256.000, 652003.000 6...\n",
       "2         78  78472  POLYGON ((614174.000 6818160.000, 613852.000 6...\n",
       "3         77  77038  POLYGON ((670513.000 6824029.000, 670617.000 6...\n",
       "4         78  78672  POLYGON ((627350.000 6869424.000, 626591.000 6...\n",
       "...      ...    ...                                                ...\n",
       "1282      78  78522  POLYGON ((623157.000 6831138.000, 622832.000 6...\n",
       "1283      77  77388  POLYGON ((713444.000 6871672.000, 712473.000 6...\n",
       "1284      75  75113  POLYGON ((651823.000 6857499.000, 651706.000 6...\n",
       "1285      75  75118  POLYGON ((650654.000 6865040.000, 650881.000 6...\n",
       "1286      75  75111  POLYGON ((655904.000 6861063.000, 653700.000 6...\n",
       "\n",
       "[1287 rows x 3 columns]"
      ]
     },
     "execution_count": 2,
     "metadata": {},
     "output_type": "execute_result"
    }
   ],
   "source": [
    "gdf_homes=gpd.read_file('D:/'+source+'/homes.gpkg')\n",
    "\n",
    "gdf_idf_communes=gpd.read_file('data\\communes\\communes-dile-de-france-au-01-janvier.shp').to_crs(gdf_homes.crs)\n",
    "gdf_idf_communes['insee']=gdf_idf_communes.insee.astype('int')\n",
    "gdf_idf_communes['numdep']=gdf_idf_communes.numdep.astype('int')\n",
    "gdf_idf_communes=gdf_idf_communes[['numdep','insee','geometry']]\n",
    "# gdf_idf_communes"
   ]
  },
  {
   "cell_type": "code",
   "execution_count": 3,
   "id": "890ec9c0",
   "metadata": {},
   "outputs": [
    {
     "name": "stderr",
     "output_type": "stream",
     "text": [
      "C:\\Users\\saadi\\Anaconda3\\envs\\coworking\\lib\\site-packages\\IPython\\core\\interactiveshell.py:3251: FutureWarning: In a future version of pandas all arguments of read_csv except for the argument 'filepath_or_buffer' will be keyword-only.\n",
      "  exec(code_obj, self.user_global_ns, self.user_ns)\n"
     ]
    }
   ],
   "source": [
    "df_persons=pd.read_csv('D:/'+source+'/persons.csv',';')"
   ]
  },
  {
   "cell_type": "code",
   "execution_count": 4,
   "id": "f73b4a64",
   "metadata": {},
   "outputs": [],
   "source": [
    "df_homes_gpkg=gpd.sjoin(gdf_homes, gdf_idf_communes, how=\"left\", op='intersects').drop('index_right', axis=1)"
   ]
  },
  {
   "cell_type": "code",
   "execution_count": 5,
   "id": "a38b0b5c",
   "metadata": {},
   "outputs": [],
   "source": [
    "df_persons=df_persons.merge(df_homes_gpkg, on='household_id').drop('geometry', axis=1)"
   ]
  },
  {
   "cell_type": "code",
   "execution_count": 6,
   "id": "c2ae6b02",
   "metadata": {},
   "outputs": [],
   "source": [
    "df_persons.to_csv('data/all/'+source+'/persons.csv', sep=';')"
   ]
  },
  {
   "cell_type": "code",
   "execution_count": 12,
   "id": "385adaff",
   "metadata": {},
   "outputs": [
    {
     "data": {
      "text/html": [
       "<div>\n",
       "<style scoped>\n",
       "    .dataframe tbody tr th:only-of-type {\n",
       "        vertical-align: middle;\n",
       "    }\n",
       "\n",
       "    .dataframe tbody tr th {\n",
       "        vertical-align: top;\n",
       "    }\n",
       "\n",
       "    .dataframe thead th {\n",
       "        text-align: right;\n",
       "    }\n",
       "</style>\n",
       "<table border=\"1\" class=\"dataframe\">\n",
       "  <thead>\n",
       "    <tr style=\"text-align: right;\">\n",
       "      <th></th>\n",
       "      <th>person_id</th>\n",
       "      <th>household_id</th>\n",
       "      <th>activity_index</th>\n",
       "      <th>preceding_trip_index</th>\n",
       "      <th>following_trip_index</th>\n",
       "      <th>purpose</th>\n",
       "      <th>start_time</th>\n",
       "      <th>end_time</th>\n",
       "      <th>is_first</th>\n",
       "      <th>is_last</th>\n",
       "      <th>geometry</th>\n",
       "    </tr>\n",
       "  </thead>\n",
       "  <tbody>\n",
       "    <tr>\n",
       "      <th>0</th>\n",
       "      <td>1</td>\n",
       "      <td>1</td>\n",
       "      <td>0</td>\n",
       "      <td>-1</td>\n",
       "      <td>0</td>\n",
       "      <td>home</td>\n",
       "      <td>NaN</td>\n",
       "      <td>49289.0</td>\n",
       "      <td>True</td>\n",
       "      <td>False</td>\n",
       "      <td>POINT (654920.460 6862238.720)</td>\n",
       "    </tr>\n",
       "    <tr>\n",
       "      <th>1</th>\n",
       "      <td>1</td>\n",
       "      <td>1</td>\n",
       "      <td>1</td>\n",
       "      <td>0</td>\n",
       "      <td>1</td>\n",
       "      <td>leisure</td>\n",
       "      <td>52889.0</td>\n",
       "      <td>61889.0</td>\n",
       "      <td>False</td>\n",
       "      <td>False</td>\n",
       "      <td>POINT (648884.300 6864712.600)</td>\n",
       "    </tr>\n",
       "    <tr>\n",
       "      <th>2</th>\n",
       "      <td>1</td>\n",
       "      <td>1</td>\n",
       "      <td>2</td>\n",
       "      <td>1</td>\n",
       "      <td>-1</td>\n",
       "      <td>home</td>\n",
       "      <td>66389.0</td>\n",
       "      <td>NaN</td>\n",
       "      <td>False</td>\n",
       "      <td>True</td>\n",
       "      <td>POINT (654920.460 6862238.720)</td>\n",
       "    </tr>\n",
       "    <tr>\n",
       "      <th>3</th>\n",
       "      <td>2</td>\n",
       "      <td>1</td>\n",
       "      <td>0</td>\n",
       "      <td>-1</td>\n",
       "      <td>0</td>\n",
       "      <td>home</td>\n",
       "      <td>NaN</td>\n",
       "      <td>40040.0</td>\n",
       "      <td>True</td>\n",
       "      <td>False</td>\n",
       "      <td>POINT (654920.460 6862238.720)</td>\n",
       "    </tr>\n",
       "    <tr>\n",
       "      <th>4</th>\n",
       "      <td>2</td>\n",
       "      <td>1</td>\n",
       "      <td>1</td>\n",
       "      <td>0</td>\n",
       "      <td>1</td>\n",
       "      <td>leisure</td>\n",
       "      <td>41240.0</td>\n",
       "      <td>63440.0</td>\n",
       "      <td>False</td>\n",
       "      <td>False</td>\n",
       "      <td>POINT (654786.800 6863212.960)</td>\n",
       "    </tr>\n",
       "  </tbody>\n",
       "</table>\n",
       "</div>"
      ],
      "text/plain": [
       "   person_id  household_id  activity_index  preceding_trip_index  \\\n",
       "0          1             1               0                    -1   \n",
       "1          1             1               1                     0   \n",
       "2          1             1               2                     1   \n",
       "3          2             1               0                    -1   \n",
       "4          2             1               1                     0   \n",
       "\n",
       "   following_trip_index  purpose  start_time  end_time  is_first  is_last  \\\n",
       "0                     0     home         NaN   49289.0      True    False   \n",
       "1                     1  leisure     52889.0   61889.0     False    False   \n",
       "2                    -1     home     66389.0       NaN     False     True   \n",
       "3                     0     home         NaN   40040.0      True    False   \n",
       "4                     1  leisure     41240.0   63440.0     False    False   \n",
       "\n",
       "                         geometry  \n",
       "0  POINT (654920.460 6862238.720)  \n",
       "1  POINT (648884.300 6864712.600)  \n",
       "2  POINT (654920.460 6862238.720)  \n",
       "3  POINT (654920.460 6862238.720)  \n",
       "4  POINT (654786.800 6863212.960)  "
      ]
     },
     "execution_count": 12,
     "metadata": {},
     "output_type": "execute_result"
    }
   ],
   "source": [
    "gdf_activities=gpd.read_file('D:/'+source+'/activities.gpkg', rows=10000)\n",
    "gdf_activities.head()"
   ]
  },
  {
   "cell_type": "code",
   "execution_count": 13,
   "id": "3a1f569f",
   "metadata": {},
   "outputs": [],
   "source": [
    "gdf_activities['uid']=gdf_activities.geometry.astype('str').astype('category').cat.codes\n"
   ]
  },
  {
   "cell_type": "code",
   "execution_count": 14,
   "id": "810c7897",
   "metadata": {},
   "outputs": [],
   "source": [
    "pd.DataFrame(gdf_activities.drop(columns='geometry')).to_csv('data/all/'+source+'/activities.csv')\n"
   ]
  },
  {
   "cell_type": "code",
   "execution_count": null,
   "id": "952a4aca",
   "metadata": {},
   "outputs": [],
   "source": [
    "# OK"
   ]
  }
 ],
 "metadata": {
  "kernelspec": {
   "display_name": "Python 3 (ipykernel)",
   "language": "python",
   "name": "python3"
  },
  "language_info": {
   "codemirror_mode": {
    "name": "ipython",
    "version": 3
   },
   "file_extension": ".py",
   "mimetype": "text/x-python",
   "name": "python",
   "nbconvert_exporter": "python",
   "pygments_lexer": "ipython3",
   "version": "3.9.9"
  }
 },
 "nbformat": 4,
 "nbformat_minor": 5
}
