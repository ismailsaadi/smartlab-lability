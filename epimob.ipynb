{
 "cells": [
  {
   "cell_type": "code",
   "execution_count": 3,
   "id": "602d7ea9",
   "metadata": {},
   "outputs": [],
   "source": [
    "import pandas as pd\n",
    "import numpy as np\n",
    "import matplotlib.pyplot as plt\n",
    "\n",
    "from graph_tool.all import *"
   ]
  },
  {
   "cell_type": "code",
   "execution_count": 13,
   "id": "a9eb9b2b",
   "metadata": {},
   "outputs": [],
   "source": [
    "df_trips=pd.read_csv('./raw-updated-sampled/trips.csv').drop(['Unnamed: 0'], axis=1) non updated"
   ]
  },
  {
   "cell_type": "code",
   "execution_count": 132,
   "id": "73a3df11",
   "metadata": {},
   "outputs": [],
   "source": [
    "contact_network=load_graph('sampled_contact_network_26_09_2022.xml.gz')\n",
    "# contact_network=load_graph('sampled_contact_network_22_08_2022.xml.gz')"
   ]
  },
  {
   "cell_type": "code",
   "execution_count": 150,
   "id": "d3a42672",
   "metadata": {},
   "outputs": [],
   "source": [
    "pgraphs=[]\n",
    "\n",
    "for i in ['wfh25', 'wfh50', 'wfh75']:\n",
    "    pgraphs.append(load_graph('sampled_contact_network_04_10_2022_'+i+'.xml.gz'))"
   ]
  },
  {
   "cell_type": "code",
   "execution_count": 39,
   "id": "aa6b928d",
   "metadata": {},
   "outputs": [],
   "source": [
    "contact_network.vp['state'] = contact_network.new_vp('bool', vals=None, val=False)"
   ]
  },
  {
   "cell_type": "code",
   "execution_count": 22,
   "id": "2ebbbfa7",
   "metadata": {},
   "outputs": [
    {
     "data": {
      "text/plain": [
       "{'age': <VertexPropertyMap object with value type 'int32_t', for Graph 0x7f4c20fcbd00, at 0x7f4c221e2340>, 'all_neighbours': <VertexPropertyMap object with value type 'bool', for Graph 0x7f4c20fcbd00, at 0x7f4c20fcbc70>, 'id': <VertexPropertyMap object with value type 'int32_t', for Graph 0x7f4c20fcbd00, at 0x7f4c20fcbfa0>, 'insee': <VertexPropertyMap object with value type 'int32_t', for Graph 0x7f4c20fcbd00, at 0x7f4c20fcbca0>, 'keep': <VertexPropertyMap object with value type 'bool', for Graph 0x7f4c20fcbd00, at 0x7f4c20fcb9a0>}"
      ]
     },
     "execution_count": 22,
     "metadata": {},
     "output_type": "execute_result"
    }
   ],
   "source": [
    "contact_network.vp"
   ]
  },
  {
   "cell_type": "code",
   "execution_count": 157,
   "id": "62233bbf",
   "metadata": {},
   "outputs": [
    {
     "data": {
      "image/png": "[encoded data removed]",
      "text/plain": [
       "<Figure size 432x288 with 1 Axes>"
      ]
     },
     "metadata": {
      "needs_background": "light"
     },
     "output_type": "display_data"
    }
   ],
   "source": [
    "def run(contact_network, policy, ax):\n",
    "\n",
    "    f=contact_network.vp['id'].a==2604967 # starting point used to make BFS sampling\n",
    "    # print(sum(f))\n",
    "        \n",
    "    f=contact_network.get_vertices()[f][0]\n",
    "    state = SIState(contact_network, beta=1., v0=f)\n",
    "\n",
    "    X = []\n",
    "    for t in range(10):\n",
    "        ret = state.iterate_sync()\n",
    "        X.append(state.get_state().fa.sum())\n",
    "        unq, cnt=np.unique(state.get_state().fa*contact_network.vp['insee'].a, return_counts=True)\n",
    "        pd.DataFrame({'insee': unq, 'counts': cnt}).to_csv(policy+'_state_'+ str(t) +'.csv', index=False)\n",
    "\n",
    "    \n",
    "    ax.plot(X)\n",
    "    ax.set_xlabel(r\"Time\")\n",
    "    ax.set_ylabel(r\"Infectious nodes\")\n",
    "    \n",
    "\n",
    "fig, ax=plt.subplots(figsize=(6, 4))\n",
    "\n",
    "for p, g in zip(['baseline', 'wfh25', 'wfh50', 'wfh75'], [contact_network, pgraphs[0], pgraphs[1], pgraphs[2]]):\n",
    "    run(g, p, ax)\n",
    "\n",
    "\n",
    "# policy='baseline'\n",
    "# run(contact_network, policy)"
   ]
  },
  {
   "cell_type": "code",
   "execution_count": null,
   "id": "ea2cdd34",
   "metadata": {},
   "outputs": [],
   "source": []
  }
 ],
 "metadata": {
  "kernelspec": {
   "display_name": "Python 3",
   "language": "python",
   "name": "python3"
  },
  "language_info": {
   "codemirror_mode": {
    "name": "ipython",
    "version": 3
   },
   "file_extension": ".py",
   "mimetype": "text/x-python",
   "name": "python",
   "nbconvert_exporter": "python",
   "pygments_lexer": "ipython3",
   "version": "3.9.5"
  }
 },
 "nbformat": 4,
 "nbformat_minor": 5
}
